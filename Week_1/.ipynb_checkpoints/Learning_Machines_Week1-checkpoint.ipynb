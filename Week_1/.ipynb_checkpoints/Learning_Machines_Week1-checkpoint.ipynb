{
 "cells": [
  {
   "cell_type": "markdown",
   "metadata": {},
   "source": [
    "# Learning Machines - Week 1\n",
    "\n",
    "### RLE Class"
   ]
  },
  {
   "cell_type": "code",
   "execution_count": 37,
   "metadata": {},
   "outputs": [],
   "source": [
    "class Learning_Machines_RLE:\n",
    "    @staticmethod\n",
    "    def encode(inputString):\n",
    "        count = 1\n",
    "        prev = ''\n",
    "        encoded = []\n",
    "        for character in inputString:\n",
    "            if character != prev:\n",
    "                if prev:\n",
    "                    entry = (count, prev)\n",
    "                    encoded.append(entry)\n",
    "                count = 1\n",
    "                prev = character\n",
    "            else:\n",
    "                count += 1\n",
    "        else:\n",
    "            entry = (count,character)\n",
    "            encoded.append(entry)\n",
    "        return encoded\n",
    "    @staticmethod\n",
    "    def decode(encoded):\n",
    "        stringOutput = \"\"\n",
    "        for character, count in encoded:\n",
    "            stringOutput += count * character\n",
    "        return stringOutput"
   ]
  },
  {
   "cell_type": "markdown",
   "metadata": {},
   "source": [
    "### Example Usage\n",
    "\n",
    "#### Encoding - Returns an array of tuples (number of characters, character)"
   ]
  },
  {
   "cell_type": "code",
   "execution_count": 32,
   "metadata": {},
   "outputs": [
    {
     "name": "stdout",
     "output_type": "stream",
     "text": [
      "[(2, '1'), (1, 'n'), (1, 'd'), (1, 'v'), (3, '8'), (4, '5'), (4, 'j'), (1, '4'), (1, 'k'), (1, '3'), (1, 'l'), (1, 'd'), (1, '9'), (1, '8'), (3, '9'), (1, '5'), (3, 'n'), (1, 'k'), (1, 'f'), (1, 'l'), (1, 'e'), (3, 'l')]\n"
     ]
    }
   ],
   "source": [
    "print(Learning_Machines_RLE.encode(\"11ndv8885555jjjj4k3ld989995nnnkflelll\"))"
   ]
  },
  {
   "cell_type": "markdown",
   "metadata": {},
   "source": [
    "#### Decoding - Returns a string"
   ]
  },
  {
   "cell_type": "code",
   "execution_count": 34,
   "metadata": {},
   "outputs": [
    {
     "name": "stdout",
     "output_type": "stream",
     "text": [
      "11bbbbbbb\n"
     ]
    }
   ],
   "source": [
    "print(Learning_Machines_RLE.decode([(2, '1'), (7, 'b')]))"
   ]
  }
 ],
 "metadata": {
  "kernelspec": {
   "display_name": "Python 3",
   "language": "python",
   "name": "python3"
  },
  "language_info": {
   "codemirror_mode": {
    "name": "ipython",
    "version": 3
   },
   "file_extension": ".py",
   "mimetype": "text/x-python",
   "name": "python",
   "nbconvert_exporter": "python",
   "pygments_lexer": "ipython3",
   "version": "3.6.1"
  }
 },
 "nbformat": 4,
 "nbformat_minor": 2
}
