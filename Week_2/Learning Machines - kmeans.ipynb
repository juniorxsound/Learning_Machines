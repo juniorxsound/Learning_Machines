{
 "cells": [
  {
   "cell_type": "code",
   "execution_count": 268,
   "metadata": {},
   "outputs": [],
   "source": [
    "# Imports\n",
    "import matplotlib.pyplot as plt\n",
    "from mpl_toolkits.mplot3d import Axes3D\n",
    "import numpy as np\n",
    "import random\n",
    "\n",
    "# Set some styling rules\n",
    "%matplotlib inline\n",
    "plt.style.use('ggplot')\n",
    "\n",
    "class kmeans:\n",
    "    def __init__(self, minimum = 0, maximum = 100, dimensions = 2, pointNum = 50, clusterNum = 5):\n",
    "        \n",
    "        self.is3D = True if dimensions == 3 else False\n",
    "        \n",
    "        #Params passed to the constructor\n",
    "        self.min = minimum\n",
    "        self.max = maximum\n",
    "        self.dim = dimensions\n",
    "        self.clusterNum = clusterNum\n",
    "        \n",
    "        #Some class props\n",
    "        self.iterations = 0\n",
    "        self.lastCentroids = None\n",
    "        \n",
    "        #The family each point belongs to\n",
    "        self.family = np.zeros(pointNum)\n",
    "        \n",
    "        #Make random points (ints) in  tuples based on dimensions and number of points specified to the constructor\n",
    "        self.points = np.random.randint(maximum, size=(pointNum, dimensions))\n",
    "        \n",
    "        #Make random Clusters centers\n",
    "        self.clusters = np.random.randint(maximum, size=(clusterNum, dimensions))\n",
    "        \n",
    "        #Set the labels and the cluster centers\n",
    "        for i, pointCoords in enumerate(self.points):\n",
    "            dist = np.linalg.norm(self.points[i]-self.clusters[0])\n",
    "            for j, clusterCoords in enumerate(self.clusters):\n",
    "                if(dist > np.linalg.norm(self.points[i]-self.clusters[j])):\n",
    "                    self.family[i] = j\n",
    "                    \n",
    "        self.__draw__()\n",
    "    \n",
    "    \n",
    "    def calculateCentroids(self):\n",
    "        #Match the current state to the last state\n",
    "        self.lastCentroids = np.copy(self.clusters)\n",
    "        \n",
    "        #Increment the iterations counter\n",
    "        self.iterations += 1\n",
    "        \n",
    "         #Calculate new center\n",
    "        for i, pointCoords in enumerate(self.points):\n",
    "            dist = np.linalg.norm(self.points[i]-self.clusters[0])\n",
    "            for j, clusterCoords in enumerate(self.clusters):\n",
    "                if(dist > np.linalg.norm(self.points[i]-self.clusters[j])):\n",
    "                    self.family[i] = j\n",
    "                      \n",
    "    def center(self):\n",
    "        #Move the cluster centers to the new position\n",
    "        centers = np.zeros(self.clusters.shape)\n",
    "        #Get the new position and save it\n",
    "        for i, point in enumerate(self.points):\n",
    "            centers[int(self.family[i])] = centers[int(self.family[i])] + self.points[i] \n",
    "        \n",
    "        #Move the cluster center to the new position\n",
    "        for i, cluster in enumerate(self.clusters):\n",
    "            self.clusters[i] = centers[i] / self.clusterNum\n",
    "            \n",
    "        self.__draw__()\n",
    "    \n",
    "    def hasChanged(self):\n",
    "        return self.last_centroids == self.clusters\n",
    "    \n",
    "\n",
    "    def __draw__(self):\n",
    "        #Create a plot figure so we can easily switch between 2D and 3D\n",
    "        fig = plt.figure()\n",
    "        \n",
    "        if self.is3D:\n",
    "            \n",
    "            #Add a 3D plot\n",
    "            ax = fig.add_subplot(111, projection='3d') \n",
    "            \n",
    "            #Prints all the points generated\n",
    "            for pointCoords in self.points:\n",
    "                #Coords[0] = x, Coords[1] = y (If 3 dimensions specified Coords[2] will be Z)\n",
    "                ax.scatter(pointCoords[0], pointCoords[1], pointCoords[2], color='red', s=10)\n",
    "\n",
    "            #Prints all the clusters generated\n",
    "            for clusterCoords in self.clusters:\n",
    "                ax.scatter(clusterCoords[0], clusterCoords[1], clusterCoords[2], color='blue', s=20)\n",
    "        #It's a 2D plot\n",
    "        else:\n",
    "            \n",
    "            #Prints all the points generated\n",
    "            for pointCoords in self.points:\n",
    "                #Coords[0] = x, Coords[1] = y (If 3 dimensions specified Coords[2] will be Z)\n",
    "                plt.scatter(pointCoords[0], pointCoords[1], color='red', s=10)\n",
    "\n",
    "            #Prints all the clusters generated\n",
    "            for clusterCoords in self.clusters:\n",
    "                plt.scatter(clusterCoords[0], clusterCoords[1], color='blue', s=20)"
   ]
  },
  {
   "cell_type": "code",
   "execution_count": 266,
   "metadata": {},
   "outputs": [
    {
     "data": {
      "image/png": "[encoded data removed]",
      "text/plain": [
       "<matplotlib.figure.Figure at 0x20cba9219e8>"
      ]
     },
     "metadata": {},
     "output_type": "display_data"
    }
   ],
   "source": [
    "km = kmeans(0, 50, 2, 100, 2)\n",
    "km.calculateCentroids()"
   ]
  },
  {
   "cell_type": "code",
   "execution_count": 267,
   "metadata": {},
   "outputs": [
    {
     "data": {
      "image/png": "[encoded data removed]",
      "text/plain": [
       "<matplotlib.figure.Figure at 0x20cb9965358>"
      ]
     },
     "metadata": {},
     "output_type": "display_data"
    }
   ],
   "source": [
    "km.center()\n",
    "km.__draw__()"
   ]
  },
  {
   "cell_type": "code",
   "execution_count": null,
   "metadata": {
    "collapsed": true
   },
   "outputs": [],
   "source": []
  },
  {
   "cell_type": "code",
   "execution_count": null,
   "metadata": {
    "collapsed": true
   },
   "outputs": [],
   "source": []
  },
  {
   "cell_type": "code",
   "execution_count": null,
   "metadata": {
    "collapsed": true
   },
   "outputs": [],
   "source": []
  }
 ],
 "metadata": {
  "kernelspec": {
   "display_name": "Python 3",
   "language": "python",
   "name": "python3"
  },
  "language_info": {
   "codemirror_mode": {
    "name": "ipython",
    "version": 3
   },
   "file_extension": ".py",
   "mimetype": "text/x-python",
   "name": "python",
   "nbconvert_exporter": "python",
   "pygments_lexer": "ipython3",
   "version": "3.6.1"
  }
 },
 "nbformat": 4,
 "nbformat_minor": 2
}
